{
 "cells": [
  {
   "cell_type": "code",
   "execution_count": 69,
   "id": "40cd5b57-c3ee-48ae-a92d-288a6c8da78a",
   "metadata": {},
   "outputs": [],
   "source": [
    "import seaborn as sns\n",
    "import pandas as pd\n",
    "import dataframe_image\n",
    "import datetime\n",
    "import matplotlib.pyplot as plt\n",
    "from datetime import timedelta"
   ]
  },
  {
   "cell_type": "code",
   "execution_count": 59,
   "id": "8dbe35be-df12-45a4-82a1-a3329d073c82",
   "metadata": {
    "editable": true,
    "slideshow": {
     "slide_type": ""
    },
    "tags": []
   },
   "outputs": [],
   "source": [
    "def openFile(path):\n",
    "    data = pd.read_csv(path)\n",
    "    return data"
   ]
  },
  {
   "cell_type": "code",
   "execution_count": 60,
   "id": "94e136ff-b60a-419c-b7df-8d6bab2aa556",
   "metadata": {},
   "outputs": [],
   "source": [
    "def cleanUp (data, process, completedKeyword, dropColumns=['Resource', 'Loaded','LastUpdated', 'Exception', 'Deferred','Completed','KeyValue','Priority','Attempt','Locked','ExceptionReason','isLocked']):\n",
    "    data['isLocked'] = data['Locked'].apply(lambda x: 1 if pd.notnull(x) else 0)\n",
    "    data['Status'] = data['Status'].apply(lambda x: x if pd.notnull(x) else \"Pending\")\n",
    "    data = data.apply(lambda row: setStatus(row, completedKeyword), axis=1)\n",
    "    data = data.drop(columns=dropColumns)\n",
    "    data[\"Process\"] = process\n",
    "    return data"
   ]
  },
  {
   "cell_type": "code",
   "execution_count": 61,
   "id": "ff227984-e256-407e-951e-2222ccfe7fb5",
   "metadata": {},
   "outputs": [],
   "source": [
    "def toString(data):\n",
    "    print(\"Complete: \" + getStatusCount(data,\"Complete\"))\n",
    "    print(\"Business Exception: \" + getStatusCount(data,\"Business Exception\"))\n",
    "    print(\"Locked: \" + getStatusCount(data,\"Locked\"))\n",
    "    print(\"Pending \" + getStatusCount(data,\"Pending\"))\n",
    "    print(\"Exception \" + getStatusCount(data,\"Exception\"))"
   ]
  },
  {
   "cell_type": "code",
   "execution_count": 62,
   "id": "d2bde2da-1920-4cdc-aa7c-2861a1fab46b",
   "metadata": {},
   "outputs": [],
   "source": [
    "def setStatus(row, completedKeyword):\n",
    "    if pd.notnull(row[\"Tags\"]) and \"Business Exception\" in row[\"Tags\"]:\n",
    "        row[\"Status\"] = \"Business Exception\"\n",
    "    elif row[\"isLocked\"] == 1:\n",
    "        row[\"Status\"] = \"Locked\"\n",
    "    elif row[\"Status\"] == completedKeyword:\n",
    "        row[\"Status\"] = \"Complete\"\n",
    "    elif row[\"Status\"] == \"Pending\":\n",
    "        pass\n",
    "    else:\n",
    "        row[\"Status\"] = \"Exception\"\n",
    "    return row"
   ]
  },
  {
   "cell_type": "code",
   "execution_count": 63,
   "id": "53fceb18-90ec-476a-b0fc-58ce2dcc05e9",
   "metadata": {},
   "outputs": [],
   "source": [
    "def getStatusCount(data,status):\n",
    "    count, _ = data[data[\"Status\"] == status].shape\n",
    "    return str(count)"
   ]
  },
  {
   "cell_type": "code",
   "execution_count": 64,
   "id": "ee897707-77f4-4bdd-ba3e-c031cb39d8b3",
   "metadata": {},
   "outputs": [],
   "source": [
    "def getWorktimeDF(row):\n",
    "    minutes = int(row[\"Worktime\"]/60)\n",
    "    seconds = (row[\"Worktime\"]%60)\n",
    "    timespan = timedelta(minutes=minutes,seconds=seconds)\n",
    "    row[\"Worktime\"] = timespan\n",
    "    return row"
   ]
  },
  {
   "cell_type": "code",
   "execution_count": 65,
   "id": "0982325a-79d5-4f0a-a381-4d0025c8f527",
   "metadata": {},
   "outputs": [],
   "source": [
    "def getWorktime(value):\n",
    "    minutes = int(value/60)\n",
    "    seconds = (value%60)\n",
    "    timespan = timedelta(minutes=minutes,seconds=seconds)\n",
    "    return timespan"
   ]
  },
  {
   "cell_type": "code",
   "execution_count": 66,
   "id": "547d4b0d-22ec-4e26-8ea3-a7edb7d25c07",
   "metadata": {},
   "outputs": [],
   "source": [
    "def averageWorktime(data,status=None):\n",
    "    if status is None:\n",
    "        return round(data[\"Worktime\"].mean())\n",
    "    else:\n",
    "        return round(data[data[\"Status\"] == status][\"Worktime\"].mean())"
   ]
  },
  {
   "cell_type": "code",
   "execution_count": 67,
   "id": "10ab2aa8-6006-44f4-8570-7d93be93d5c8",
   "metadata": {
    "editable": true,
    "scrolled": true,
    "slideshow": {
     "slide_type": ""
    },
    "tags": []
   },
   "outputs": [
    {
     "data": {
      "text/html": [
       "<div>\n",
       "<style scoped>\n",
       "    .dataframe tbody tr th:only-of-type {\n",
       "        vertical-align: middle;\n",
       "    }\n",
       "\n",
       "    .dataframe tbody tr th {\n",
       "        vertical-align: top;\n",
       "    }\n",
       "\n",
       "    .dataframe thead th {\n",
       "        text-align: right;\n",
       "    }\n",
       "</style>\n",
       "<table border=\"1\" class=\"dataframe\">\n",
       "  <thead>\n",
       "    <tr style=\"text-align: right;\">\n",
       "      <th></th>\n",
       "      <th>Id</th>\n",
       "      <th>Status</th>\n",
       "      <th>Tags</th>\n",
       "      <th>Worktime</th>\n",
       "      <th>Process</th>\n",
       "    </tr>\n",
       "  </thead>\n",
       "  <tbody>\n",
       "    <tr>\n",
       "      <th>0</th>\n",
       "      <td>d85107f7-1863-4498-adf6-ed899104fcf7</td>\n",
       "      <td>Locked</td>\n",
       "      <td>Conventional</td>\n",
       "      <td>0</td>\n",
       "      <td>ICD</td>\n",
       "    </tr>\n",
       "    <tr>\n",
       "      <th>1</th>\n",
       "      <td>de1f84fb-3f83-4be2-8e57-262485faeaa2</td>\n",
       "      <td>Complete</td>\n",
       "      <td>Redisclosure: 0</td>\n",
       "      <td>632</td>\n",
       "      <td>ICD</td>\n",
       "    </tr>\n",
       "    <tr>\n",
       "      <th>2</th>\n",
       "      <td>2795cd33-e771-420d-bcce-4c8f33feeaab</td>\n",
       "      <td>Locked</td>\n",
       "      <td>NaN</td>\n",
       "      <td>0</td>\n",
       "      <td>ICD</td>\n",
       "    </tr>\n",
       "    <tr>\n",
       "      <th>3</th>\n",
       "      <td>b0e8d75f-786c-4c9a-87c1-438783443aa1</td>\n",
       "      <td>Complete</td>\n",
       "      <td>Conventional;Redisclosure: 1;Run UCD</td>\n",
       "      <td>718</td>\n",
       "      <td>ICD</td>\n",
       "    </tr>\n",
       "    <tr>\n",
       "      <th>4</th>\n",
       "      <td>ec2fe0f5-b498-4396-a724-aeb70611551a</td>\n",
       "      <td>Locked</td>\n",
       "      <td>Conventional</td>\n",
       "      <td>0</td>\n",
       "      <td>ICD</td>\n",
       "    </tr>\n",
       "    <tr>\n",
       "      <th>...</th>\n",
       "      <td>...</td>\n",
       "      <td>...</td>\n",
       "      <td>...</td>\n",
       "      <td>...</td>\n",
       "      <td>...</td>\n",
       "    </tr>\n",
       "    <tr>\n",
       "      <th>3792</th>\n",
       "      <td>9c1a0a83-dac5-4758-b1be-406aaea2a3f2</td>\n",
       "      <td>Exception</td>\n",
       "      <td>Exception: Failed to perform step 2 in Navigat...</td>\n",
       "      <td>655</td>\n",
       "      <td>ICD</td>\n",
       "    </tr>\n",
       "    <tr>\n",
       "      <th>3793</th>\n",
       "      <td>55d5fe8e-ba91-48e5-9c29-39d306988904</td>\n",
       "      <td>Complete</td>\n",
       "      <td>Conventional;Redisclosure: 1;Run UCD</td>\n",
       "      <td>350</td>\n",
       "      <td>ICD</td>\n",
       "    </tr>\n",
       "    <tr>\n",
       "      <th>3794</th>\n",
       "      <td>540af3ab-cbbf-41ab-94ec-54b0364c855b</td>\n",
       "      <td>Complete</td>\n",
       "      <td>Conventional;Redisclosure: 1;Run UCD</td>\n",
       "      <td>312</td>\n",
       "      <td>ICD</td>\n",
       "    </tr>\n",
       "    <tr>\n",
       "      <th>3795</th>\n",
       "      <td>4e31cf88-16a8-40fe-a86c-4050b939a7ef</td>\n",
       "      <td>Complete</td>\n",
       "      <td>Redisclosure: 1</td>\n",
       "      <td>201</td>\n",
       "      <td>ICD</td>\n",
       "    </tr>\n",
       "    <tr>\n",
       "      <th>3796</th>\n",
       "      <td>6e26bbe5-26a1-4921-9695-ac6fa2caadb8</td>\n",
       "      <td>Complete</td>\n",
       "      <td>Redisclosure: 1</td>\n",
       "      <td>196</td>\n",
       "      <td>ICD</td>\n",
       "    </tr>\n",
       "  </tbody>\n",
       "</table>\n",
       "<p>3797 rows × 5 columns</p>\n",
       "</div>"
      ],
      "text/plain": [
       "                                        Id     Status  \\\n",
       "0     d85107f7-1863-4498-adf6-ed899104fcf7     Locked   \n",
       "1     de1f84fb-3f83-4be2-8e57-262485faeaa2   Complete   \n",
       "2     2795cd33-e771-420d-bcce-4c8f33feeaab     Locked   \n",
       "3     b0e8d75f-786c-4c9a-87c1-438783443aa1   Complete   \n",
       "4     ec2fe0f5-b498-4396-a724-aeb70611551a     Locked   \n",
       "...                                    ...        ...   \n",
       "3792  9c1a0a83-dac5-4758-b1be-406aaea2a3f2  Exception   \n",
       "3793  55d5fe8e-ba91-48e5-9c29-39d306988904   Complete   \n",
       "3794  540af3ab-cbbf-41ab-94ec-54b0364c855b   Complete   \n",
       "3795  4e31cf88-16a8-40fe-a86c-4050b939a7ef   Complete   \n",
       "3796  6e26bbe5-26a1-4921-9695-ac6fa2caadb8   Complete   \n",
       "\n",
       "                                                   Tags  Worktime Process  \n",
       "0                                          Conventional         0     ICD  \n",
       "1                                       Redisclosure: 0       632     ICD  \n",
       "2                                                   NaN         0     ICD  \n",
       "3                  Conventional;Redisclosure: 1;Run UCD       718     ICD  \n",
       "4                                          Conventional         0     ICD  \n",
       "...                                                 ...       ...     ...  \n",
       "3792  Exception: Failed to perform step 2 in Navigat...       655     ICD  \n",
       "3793               Conventional;Redisclosure: 1;Run UCD       350     ICD  \n",
       "3794               Conventional;Redisclosure: 1;Run UCD       312     ICD  \n",
       "3795                                    Redisclosure: 1       201     ICD  \n",
       "3796                                    Redisclosure: 1       196     ICD  \n",
       "\n",
       "[3797 rows x 5 columns]"
      ]
     },
     "execution_count": 67,
     "metadata": {},
     "output_type": "execute_result"
    }
   ],
   "source": [
    "directory = \"resources/reports/08-26/\"\n",
    "filename = \"icd.csv\"\n",
    "path = directory + filename\n",
    "data = openFile(path)\n",
    "cleandf = cleanUp(data,\"ICD\",\"Complete\")\n",
    "cleandf"
   ]
  },
  {
   "cell_type": "code",
   "execution_count": 111,
   "id": "ad59a548-ee03-4a39-937e-170b1e476891",
   "metadata": {},
   "outputs": [
    {
     "data": {
      "image/png": "[encoded data removed]",
      "text/plain": [
       "<Figure size 1000x700 with 1 Axes>"
      ]
     },
     "metadata": {},
     "output_type": "display_data"
    },
    {
     "data": {
      "text/plain": [
       "<Figure size 640x480 with 0 Axes>"
      ]
     },
     "metadata": {},
     "output_type": "display_data"
    }
   ],
   "source": [
    "df = cleandf[~((cleandf[\"Status\"] == \"Locked\") | (cleandf[\"Status\"] == \"Pending\"))]\n",
    "plt.figure(figsize = (10,7))\n",
    "sns.countplot(data = df, x = 'Status',hue=\"Status\",legend=False,palette=\"Set2\")\n",
    "ax = sns.countplot(x='Status', data=df)\n",
    "\n",
    "for p in ax.patches:\n",
    "    height = p.get_height()\n",
    "    ax.annotate(height,\n",
    "                (p.get_x() + p.get_width() / 2., height),\n",
    "                ha = 'center', va = 'center',\n",
    "                xytext = (0, 5),  # 9 points vertical offset\n",
    "                textcoords = 'offset points')\n",
    "plt.show()\n",
    "plt.savefig(\"output1\", facecolor='y', bbox_inches=\"tight\",\n",
    "            pad_inches=0.3, transparent=True)"
   ]
  },
  {
   "cell_type": "code",
   "execution_count": null,
   "id": "025649dd-72ff-4dba-b597-268add9f420e",
   "metadata": {},
   "outputs": [],
   "source": []
  }
 ],
 "metadata": {
  "kernelspec": {
   "display_name": "Python 3 (ipykernel)",
   "language": "python",
   "name": "python3"
  },
  "language_info": {
   "codemirror_mode": {
    "name": "ipython",
    "version": 3
   },
   "file_extension": ".py",
   "mimetype": "text/x-python",
   "name": "python",
   "nbconvert_exporter": "python",
   "pygments_lexer": "ipython3",
   "version": "3.12.4"
  }
 },
 "nbformat": 4,
 "nbformat_minor": 5
}
