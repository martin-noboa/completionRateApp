{
 "cells": [
  {
   "cell_type": "code",
   "execution_count": 14,
   "id": "40cd5b57-c3ee-48ae-a92d-288a6c8da78a",
   "metadata": {},
   "outputs": [],
   "source": [
    "import seaborn\n",
    "import pandas as pd\n",
    "import dataframe_image\n",
    "import datetime\n",
    "import matplotlib as plt\n",
    "from datetime import timedelta"
   ]
  },
  {
   "cell_type": "code",
   "execution_count": 3,
   "id": "8dbe35be-df12-45a4-82a1-a3329d073c82",
   "metadata": {
    "editable": true,
    "slideshow": {
     "slide_type": ""
    },
    "tags": []
   },
   "outputs": [],
   "source": [
    "def openFile(path):\n",
    "    data = pd.read_csv(path)\n",
    "    return data"
   ]
  },
  {
   "cell_type": "code",
   "execution_count": 78,
   "id": "94e136ff-b60a-419c-b7df-8d6bab2aa556",
   "metadata": {},
   "outputs": [],
   "source": [
    "def cleanUp (data, process, completedKeyword, dropColumns=['Resource', 'Loaded','LastUpdated', 'Exception', 'Deferred','Completed','KeyValue','Priority','Attempt','Locked','ExceptionReason','isLocked']):\n",
    "    data['isLocked'] = data['Locked'].apply(lambda x: 1 if pd.notnull(x) else 0)\n",
    "    data['Status'] = data['Status'].apply(lambda x: x if pd.notnull(x) else \"Pending\")\n",
    "    data = data.apply(lambda row: setStatus(row, completedKeyword), axis=1)\n",
    "    data = data.drop(columns=dropColumns)\n",
    "    data[\"Process\"] = process\n",
    "    return data"
   ]
  },
  {
   "cell_type": "code",
   "execution_count": 79,
   "id": "ff227984-e256-407e-951e-2222ccfe7fb5",
   "metadata": {},
   "outputs": [],
   "source": [
    "def toString(data):\n",
    "    print(\"Complete: \" + getStatusCount(data,\"Complete\"))\n",
    "    print(\"Business Exception: \" + getStatusCount(data,\"Business Exception\"))\n",
    "    print(\"Locked: \" + getStatusCount(data,\"Locked\"))\n",
    "    print(\"Pending \" + getStatusCount(data,\"Pending\"))\n",
    "    print(\"Exception \" + getStatusCount(data,\"Exception\"))"
   ]
  },
  {
   "cell_type": "code",
   "execution_count": 80,
   "id": "d2bde2da-1920-4cdc-aa7c-2861a1fab46b",
   "metadata": {},
   "outputs": [],
   "source": [
    "def setStatus(row, completedKeyword):\n",
    "    if pd.notnull(row[\"Tags\"]) and \"Business Exception\" in row[\"Tags\"]:\n",
    "        row[\"Status\"] = \"Business Exception\"\n",
    "    elif row[\"isLocked\"] == 1:\n",
    "        row[\"Status\"] = \"Locked\"\n",
    "    elif row[\"Status\"] == completedKeyword:\n",
    "        row[\"Status\"] = \"Complete\"\n",
    "    elif row[\"Status\"] == \"Pending\":\n",
    "        pass\n",
    "    else:\n",
    "        row[\"Status\"] = \"Exception\"\n",
    "    return row"
   ]
  },
  {
   "cell_type": "code",
   "execution_count": 81,
   "id": "53fceb18-90ec-476a-b0fc-58ce2dcc05e9",
   "metadata": {},
   "outputs": [],
   "source": [
    "def getStatusCount(data,status):\n",
    "    count, _ = data[data[\"Status\"] == status].shape\n",
    "    return str(count)"
   ]
  },
  {
   "cell_type": "code",
   "execution_count": 82,
   "id": "ee897707-77f4-4bdd-ba3e-c031cb39d8b3",
   "metadata": {},
   "outputs": [],
   "source": [
    "def getWorktime(row):\n",
    "    minutes = int(row[\"Worktime\"]/60)\n",
    "    seconds = (row[\"Worktime\"]%60)\n",
    "    timespan = timedelta(minutes=minutes,seconds=seconds)\n",
    "    row[\"Worktime\"] = timespan\n",
    "    return row"
   ]
  },
  {
   "cell_type": "code",
   "execution_count": 83,
   "id": "10ab2aa8-6006-44f4-8570-7d93be93d5c8",
   "metadata": {
    "editable": true,
    "scrolled": true,
    "slideshow": {
     "slide_type": ""
    },
    "tags": []
   },
   "outputs": [
    {
     "name": "stdout",
     "output_type": "stream",
     "text": [
      "Complete: 2802\n",
      "Business Exception: 117\n",
      "Locked: 10\n",
      "Pending 54\n",
      "Exception 814\n"
     ]
    }
   ],
   "source": [
    "directory = \"resources/reports/08-26/\"\n",
    "filename = \"icd.csv\"\n",
    "path = directory + filename\n",
    "data = openFile(path)\n",
    "cleandf = cleanUp(data,\"ICD\",\"Complete\")\n",
    "cleandf[cleandf[\"Status\"]==\"Business Exception\"]\n",
    "toString(cleandf)"
   ]
  },
  {
   "cell_type": "code",
   "execution_count": null,
   "id": "6d54a833-764a-40a0-9085-d9cae08872fa",
   "metadata": {},
   "outputs": [],
   "source": []
  }
 ],
 "metadata": {
  "kernelspec": {
   "display_name": "Python 3 (ipykernel)",
   "language": "python",
   "name": "python3"
  },
  "language_info": {
   "codemirror_mode": {
    "name": "ipython",
    "version": 3
   },
   "file_extension": ".py",
   "mimetype": "text/x-python",
   "name": "python",
   "nbconvert_exporter": "python",
   "pygments_lexer": "ipython3",
   "version": "3.12.4"
  }
 },
 "nbformat": 4,
 "nbformat_minor": 5
}
