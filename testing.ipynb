{
 "cells": [
  {
   "cell_type": "code",
   "execution_count": 1,
   "id": "40cd5b57-c3ee-48ae-a92d-288a6c8da78a",
   "metadata": {},
   "outputs": [],
   "source": [
    "import seaborn as sns\n",
    "import pandas as pd\n",
    "import dataframe_image\n",
    "import datetime\n",
    "import os\n",
    "import matplotlib.pyplot as plt\n",
    "from datetime import timedelta"
   ]
  },
  {
   "cell_type": "code",
   "execution_count": 2,
   "id": "8dbe35be-df12-45a4-82a1-a3329d073c82",
   "metadata": {
    "editable": true,
    "slideshow": {
     "slide_type": ""
    },
    "tags": []
   },
   "outputs": [],
   "source": [
    "def openFile(path):\n",
    "    data = pd.read_csv(path)\n",
    "    return data"
   ]
  },
  {
   "cell_type": "code",
   "execution_count": 3,
   "id": "94e136ff-b60a-419c-b7df-8d6bab2aa556",
   "metadata": {},
   "outputs": [],
   "source": [
    "def cleanUp (data, process, completedKeyword, dropColumns=['Resource', 'Loaded','LastUpdated', 'KeyValue','Exception', 'Deferred','Completed','Priority','Attempt','Locked','ExceptionReason','isLocked']):\n",
    "    data['isLocked'] = data['Locked'].apply(lambda x: 1 if pd.notnull(x) else 0)\n",
    "    data['Status'] = data['Status'].apply(lambda x: x if pd.notnull(x) else \"Pending\")\n",
    "    data = data.apply(lambda row: setStatus(row, completedKeyword), axis=1)\n",
    "    data = data.drop(columns=dropColumns)\n",
    "    data[\"Process\"] = process\n",
    "    return data"
   ]
  },
  {
   "cell_type": "code",
   "execution_count": 4,
   "id": "ff227984-e256-407e-951e-2222ccfe7fb5",
   "metadata": {},
   "outputs": [],
   "source": [
    "def toString(data):\n",
    "    print(\"Complete: \" + getStatusCount(data,\"Complete\"))\n",
    "    print(\"Business Exception: \" + getStatusCount(data,\"Business Exception\"))\n",
    "    print(\"Locked: \" + getStatusCount(data,\"Locked\"))\n",
    "    print(\"Pending \" + getStatusCount(data,\"Pending\"))\n",
    "    print(\"Exception \" + getStatusCount(data,\"Exception\"))"
   ]
  },
  {
   "cell_type": "code",
   "execution_count": 5,
   "id": "d2bde2da-1920-4cdc-aa7c-2861a1fab46b",
   "metadata": {},
   "outputs": [],
   "source": [
    "def setStatus(row, completedKeyword):\n",
    "    if pd.notnull(row[\"Tags\"]) and \"Business Exception\" in row[\"Tags\"]:\n",
    "        row[\"Status\"] = \"Business Exception\"\n",
    "    elif row[\"isLocked\"] == 1:\n",
    "        row[\"Status\"] = \"Locked\"\n",
    "    elif row[\"Status\"] == completedKeyword:\n",
    "        row[\"Status\"] = \"Complete\"\n",
    "    elif row[\"Status\"] == \"Pending\":\n",
    "        pass\n",
    "    else:\n",
    "        row[\"Status\"] = \"Exception\"\n",
    "    return row"
   ]
  },
  {
   "cell_type": "code",
   "execution_count": 6,
   "id": "53fceb18-90ec-476a-b0fc-58ce2dcc05e9",
   "metadata": {},
   "outputs": [],
   "source": [
    "def getStatusCount(data,status):\n",
    "    count, _ = data[data[\"Status\"] == status].shape\n",
    "    return str(count)"
   ]
  },
  {
   "cell_type": "code",
   "execution_count": 7,
   "id": "ee897707-77f4-4bdd-ba3e-c031cb39d8b3",
   "metadata": {},
   "outputs": [],
   "source": [
    "def getWorktimeDF(row):\n",
    "    minutes = int(row[\"Worktime\"]/60)\n",
    "    seconds = (row[\"Worktime\"]%60)\n",
    "    timespan = timedelta(minutes=minutes,seconds=seconds)\n",
    "    row[\"Worktime\"] = timespan\n",
    "    return row"
   ]
  },
  {
   "cell_type": "code",
   "execution_count": 8,
   "id": "0982325a-79d5-4f0a-a381-4d0025c8f527",
   "metadata": {},
   "outputs": [],
   "source": [
    "def getWorktime(value):\n",
    "    minutes = int(value/60)\n",
    "    seconds = (value%60)\n",
    "    timespan = timedelta(minutes=minutes,seconds=seconds)\n",
    "    return timespan"
   ]
  },
  {
   "cell_type": "code",
   "execution_count": 9,
   "id": "547d4b0d-22ec-4e26-8ea3-a7edb7d25c07",
   "metadata": {},
   "outputs": [],
   "source": [
    "def averageWorktime(data,status=None):\n",
    "    if status is None:\n",
    "        return round(data[\"Worktime\"].mean())\n",
    "    else:\n",
    "        return round(data[data[\"Status\"] == status][\"Worktime\"].mean())"
   ]
  },
  {
   "cell_type": "code",
   "execution_count": 11,
   "id": "a4d428a9-9f37-48d0-83c6-170059113c27",
   "metadata": {},
   "outputs": [],
   "source": [
    "def directoryCheck(directory):\n",
    "    if not os.path.exists(directory):\n",
    "        os.makedirs(directory)\n",
    "        print(f\"Directory '{directory}' created.\")\n",
    "    else:\n",
    "        print(f\"Directory '{directory}' already exists.\")"
   ]
  },
  {
   "cell_type": "code",
   "execution_count": 10,
   "id": "10ab2aa8-6006-44f4-8570-7d93be93d5c8",
   "metadata": {
    "editable": true,
    "scrolled": true,
    "slideshow": {
     "slide_type": ""
    },
    "tags": []
   },
   "outputs": [],
   "source": [
    "directory = \"resources/reports/08-26/\"\n",
    "filename = \"icd.csv\"\n",
    "data = openFile(directory+filename)\n",
    "icd = cleanUp(data,\"ICD\",\"Complete\")\n",
    "filename = \"ucd.csv\"\n",
    "data = openFile(directory+filename)\n",
    "ucd = cleanUp(data,\"UCD\",\"Completed\")\n",
    "filename = \"clscmt.csv\"\n",
    "data = openFile(directory+filename)\n",
    "closing = cleanUp(data,\"Closing\",\"Completed\")\n",
    "filename = \"clscmt.csv\"\n",
    "data = openFile(directory+filename)\n",
    "commitment = cleanUp(data,\"ICD\",\"Complete\")"
   ]
  },
  {
   "cell_type": "code",
   "execution_count": 20,
   "id": "32601c6f-557a-415e-b43d-a8dced12055a",
   "metadata": {},
   "outputs": [],
   "source": [
    "def store(dataframes,date):\n",
    "    warehouse = os.path.join(\"resources\",\"warehouse\",date+\".csv\")\n",
    "    print(warehouse)\n",
    "    df = pd.concat(dataframes)\n",
    "    df.to_csv(warehouse, encoding='utf-8', index=False, header=True)\n",
    "    print(\"Warehouse updated\")"
   ]
  },
  {
   "cell_type": "code",
   "execution_count": 21,
   "id": "7773643b-b64a-4f5b-8b1f-87a051f9ef97",
   "metadata": {},
   "outputs": [
    {
     "name": "stdout",
     "output_type": "stream",
     "text": [
      "Directory 'resources/graphs/08-26' already exists.\n",
      "resources/warehouse/08-26.csv\n",
      "Warehouse updated\n"
     ]
    }
   ],
   "source": [
    "graphDirectory =  os.path.join(\"resources\", \"graphs\",\"08-26\")\n",
    "directoryCheck(graphDirectory)\n",
    "processes = [icd,ucd,closing,commitment]\n",
    "#store clean data\n",
    "store(processes,\"08-26\")"
   ]
  },
  {
   "cell_type": "code",
   "execution_count": null,
   "id": "fdcc79c1-9bdd-4164-a9f1-3b9f9f392db1",
   "metadata": {},
   "outputs": [],
   "source": []
  }
 ],
 "metadata": {
  "kernelspec": {
   "display_name": "Python 3 (ipykernel)",
   "language": "python",
   "name": "python3"
  },
  "language_info": {
   "codemirror_mode": {
    "name": "ipython",
    "version": 3
   },
   "file_extension": ".py",
   "mimetype": "text/x-python",
   "name": "python",
   "nbconvert_exporter": "python",
   "pygments_lexer": "ipython3",
   "version": "3.12.4"
  }
 },
 "nbformat": 4,
 "nbformat_minor": 5
}
