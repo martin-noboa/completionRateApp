{
 "cells": [
  {
   "cell_type": "code",
   "execution_count": 79,
   "id": "40cd5b57-c3ee-48ae-a92d-288a6c8da78a",
   "metadata": {},
   "outputs": [],
   "source": [
    "import seaborn as sns\n",
    "import pandas as pd\n",
    "import dataframe_image\n",
    "import datetime\n",
    "import matplotlib.pyplot as plt\n",
    "from datetime import timedelta"
   ]
  },
  {
   "cell_type": "code",
   "execution_count": 80,
   "id": "8dbe35be-df12-45a4-82a1-a3329d073c82",
   "metadata": {
    "editable": true,
    "slideshow": {
     "slide_type": ""
    },
    "tags": []
   },
   "outputs": [],
   "source": [
    "def openFile(path):\n",
    "    data = pd.read_csv(path)\n",
    "    return data"
   ]
  },
  {
   "cell_type": "code",
   "execution_count": 95,
   "id": "94e136ff-b60a-419c-b7df-8d6bab2aa556",
   "metadata": {},
   "outputs": [],
   "source": [
    "def cleanUp (data, process, completedKeyword, dropColumns=['Resource', 'Loaded','LastUpdated', 'Exception', 'Deferred','Completed','Priority','Attempt','Locked','ExceptionReason','isLocked']):\n",
    "    data['isLocked'] = data['Locked'].apply(lambda x: 1 if pd.notnull(x) else 0)\n",
    "    data['Status'] = data['Status'].apply(lambda x: x if pd.notnull(x) else \"Pending\")\n",
    "    data = data.apply(lambda row: setStatus(row, completedKeyword), axis=1)\n",
    "    data = data.drop(columns=dropColumns)\n",
    "    data[\"Process\"] = process\n",
    "    return data"
   ]
  },
  {
   "cell_type": "code",
   "execution_count": 82,
   "id": "ff227984-e256-407e-951e-2222ccfe7fb5",
   "metadata": {},
   "outputs": [],
   "source": [
    "def toString(data):\n",
    "    print(\"Complete: \" + getStatusCount(data,\"Complete\"))\n",
    "    print(\"Business Exception: \" + getStatusCount(data,\"Business Exception\"))\n",
    "    print(\"Locked: \" + getStatusCount(data,\"Locked\"))\n",
    "    print(\"Pending \" + getStatusCount(data,\"Pending\"))\n",
    "    print(\"Exception \" + getStatusCount(data,\"Exception\"))"
   ]
  },
  {
   "cell_type": "code",
   "execution_count": 83,
   "id": "d2bde2da-1920-4cdc-aa7c-2861a1fab46b",
   "metadata": {},
   "outputs": [],
   "source": [
    "def setStatus(row, completedKeyword):\n",
    "    if pd.notnull(row[\"Tags\"]) and \"Business Exception\" in row[\"Tags\"]:\n",
    "        row[\"Status\"] = \"Business Exception\"\n",
    "    elif row[\"isLocked\"] == 1:\n",
    "        row[\"Status\"] = \"Locked\"\n",
    "    elif row[\"Status\"] == completedKeyword:\n",
    "        row[\"Status\"] = \"Complete\"\n",
    "    elif row[\"Status\"] == \"Pending\":\n",
    "        pass\n",
    "    else:\n",
    "        row[\"Status\"] = \"Exception\"\n",
    "    return row"
   ]
  },
  {
   "cell_type": "code",
   "execution_count": 84,
   "id": "53fceb18-90ec-476a-b0fc-58ce2dcc05e9",
   "metadata": {},
   "outputs": [],
   "source": [
    "def getStatusCount(data,status):\n",
    "    count, _ = data[data[\"Status\"] == status].shape\n",
    "    return str(count)"
   ]
  },
  {
   "cell_type": "code",
   "execution_count": 85,
   "id": "ee897707-77f4-4bdd-ba3e-c031cb39d8b3",
   "metadata": {},
   "outputs": [],
   "source": [
    "def getWorktimeDF(row):\n",
    "    minutes = int(row[\"Worktime\"]/60)\n",
    "    seconds = (row[\"Worktime\"]%60)\n",
    "    timespan = timedelta(minutes=minutes,seconds=seconds)\n",
    "    row[\"Worktime\"] = timespan\n",
    "    return row"
   ]
  },
  {
   "cell_type": "code",
   "execution_count": 86,
   "id": "0982325a-79d5-4f0a-a381-4d0025c8f527",
   "metadata": {},
   "outputs": [],
   "source": [
    "def getWorktime(value):\n",
    "    minutes = int(value/60)\n",
    "    seconds = (value%60)\n",
    "    timespan = timedelta(minutes=minutes,seconds=seconds)\n",
    "    return timespan"
   ]
  },
  {
   "cell_type": "code",
   "execution_count": 87,
   "id": "547d4b0d-22ec-4e26-8ea3-a7edb7d25c07",
   "metadata": {},
   "outputs": [],
   "source": [
    "def averageWorktime(data,status=None):\n",
    "    if status is None:\n",
    "        return round(data[\"Worktime\"].mean())\n",
    "    else:\n",
    "        return round(data[data[\"Status\"] == status][\"Worktime\"].mean())"
   ]
  },
  {
   "cell_type": "code",
   "execution_count": 96,
   "id": "10ab2aa8-6006-44f4-8570-7d93be93d5c8",
   "metadata": {
    "editable": true,
    "scrolled": true,
    "slideshow": {
     "slide_type": ""
    },
    "tags": []
   },
   "outputs": [
    {
     "data": {
      "text/plain": [
       "(3797, 6)"
      ]
     },
     "execution_count": 96,
     "metadata": {},
     "output_type": "execute_result"
    }
   ],
   "source": [
    "directory = \"resources/reports/08-26/\"\n",
    "filename = \"icd.csv\"\n",
    "path = directory + filename\n",
    "data = openFile(path)\n",
    "cleandf = cleanUp(data,\"ICD\",\"Complete\")\n",
    "cleandf.shape"
   ]
  },
  {
   "cell_type": "code",
   "execution_count": 97,
   "id": "6a87adda-6b75-4321-b937-408328a55381",
   "metadata": {},
   "outputs": [
    {
     "data": {
      "text/html": [
       "<div>\n",
       "<style scoped>\n",
       "    .dataframe tbody tr th:only-of-type {\n",
       "        vertical-align: middle;\n",
       "    }\n",
       "\n",
       "    .dataframe tbody tr th {\n",
       "        vertical-align: top;\n",
       "    }\n",
       "\n",
       "    .dataframe thead th {\n",
       "        text-align: right;\n",
       "    }\n",
       "</style>\n",
       "<table border=\"1\" class=\"dataframe\">\n",
       "  <thead>\n",
       "    <tr style=\"text-align: right;\">\n",
       "      <th></th>\n",
       "      <th>Id</th>\n",
       "      <th>KeyValue</th>\n",
       "      <th>Status</th>\n",
       "      <th>Tags</th>\n",
       "      <th>Worktime</th>\n",
       "      <th>Process</th>\n",
       "    </tr>\n",
       "  </thead>\n",
       "  <tbody>\n",
       "    <tr>\n",
       "      <th>0</th>\n",
       "      <td>d85107f7-1863-4498-adf6-ed899104fcf7</td>\n",
       "      <td>be412b78-0379-4f05-a5eb-5ccdb5978730</td>\n",
       "      <td>Locked</td>\n",
       "      <td>Conventional</td>\n",
       "      <td>0</td>\n",
       "      <td>ICD</td>\n",
       "    </tr>\n",
       "    <tr>\n",
       "      <th>1</th>\n",
       "      <td>de1f84fb-3f83-4be2-8e57-262485faeaa2</td>\n",
       "      <td>6bc7c28b-7e75-4dfe-a8c2-be8b19cb0159</td>\n",
       "      <td>Complete</td>\n",
       "      <td>Redisclosure: 0</td>\n",
       "      <td>632</td>\n",
       "      <td>ICD</td>\n",
       "    </tr>\n",
       "    <tr>\n",
       "      <th>2</th>\n",
       "      <td>2795cd33-e771-420d-bcce-4c8f33feeaab</td>\n",
       "      <td>6450fe23-ddad-41e4-b056-06da2c75a292</td>\n",
       "      <td>Locked</td>\n",
       "      <td>NaN</td>\n",
       "      <td>0</td>\n",
       "      <td>ICD</td>\n",
       "    </tr>\n",
       "    <tr>\n",
       "      <th>3</th>\n",
       "      <td>b0e8d75f-786c-4c9a-87c1-438783443aa1</td>\n",
       "      <td>6f96d1ce-a756-4387-8f55-29aa886c40c1</td>\n",
       "      <td>Complete</td>\n",
       "      <td>Conventional;Redisclosure: 1;Run UCD</td>\n",
       "      <td>718</td>\n",
       "      <td>ICD</td>\n",
       "    </tr>\n",
       "    <tr>\n",
       "      <th>4</th>\n",
       "      <td>ec2fe0f5-b498-4396-a724-aeb70611551a</td>\n",
       "      <td>6dc44fd3-fb9f-4cee-b69a-22905ce657f9</td>\n",
       "      <td>Locked</td>\n",
       "      <td>Conventional</td>\n",
       "      <td>0</td>\n",
       "      <td>ICD</td>\n",
       "    </tr>\n",
       "  </tbody>\n",
       "</table>\n",
       "</div>"
      ],
      "text/plain": [
       "                                     Id                              KeyValue  \\\n",
       "0  d85107f7-1863-4498-adf6-ed899104fcf7  be412b78-0379-4f05-a5eb-5ccdb5978730   \n",
       "1  de1f84fb-3f83-4be2-8e57-262485faeaa2  6bc7c28b-7e75-4dfe-a8c2-be8b19cb0159   \n",
       "2  2795cd33-e771-420d-bcce-4c8f33feeaab  6450fe23-ddad-41e4-b056-06da2c75a292   \n",
       "3  b0e8d75f-786c-4c9a-87c1-438783443aa1  6f96d1ce-a756-4387-8f55-29aa886c40c1   \n",
       "4  ec2fe0f5-b498-4396-a724-aeb70611551a  6dc44fd3-fb9f-4cee-b69a-22905ce657f9   \n",
       "\n",
       "     Status                                  Tags  Worktime Process  \n",
       "0    Locked                          Conventional         0     ICD  \n",
       "1  Complete                       Redisclosure: 0       632     ICD  \n",
       "2    Locked                                   NaN         0     ICD  \n",
       "3  Complete  Conventional;Redisclosure: 1;Run UCD       718     ICD  \n",
       "4    Locked                          Conventional         0     ICD  "
      ]
     },
     "execution_count": 97,
     "metadata": {},
     "output_type": "execute_result"
    }
   ],
   "source": [
    "cleandf.head()"
   ]
  },
  {
   "cell_type": "code",
   "execution_count": 116,
   "id": "7773643b-b64a-4f5b-8b1f-87a051f9ef97",
   "metadata": {},
   "outputs": [
    {
     "data": {
      "text/plain": [
       "(3107, 6)"
      ]
     },
     "execution_count": 116,
     "metadata": {},
     "output_type": "execute_result"
    }
   ],
   "source": [
    "df = cleandf.groupby('Id').last().reset_index()\n",
    "total, _ = df.shape"
   ]
  },
  {
   "cell_type": "code",
   "execution_count": 113,
   "id": "01f6562f-a273-4e52-a0e1-a74b0edee8f8",
   "metadata": {},
   "outputs": [
    {
     "name": "stdout",
     "output_type": "stream",
     "text": [
      "Complete = 2432\n",
      "Business = 103\n",
      "Exception = 510\n"
     ]
    }
   ],
   "source": [
    "complete = df['Status'].apply(lambda status: status == \"Complete\").sum()\n",
    "exception = df['Status'].apply(lambda status: status == \"Exception\").sum()\n",
    "business = df['Status'].apply(lambda status: status == \"Business Exception\").sum()\n",
    "\n",
    "print(\"Complete = \"+str(complete))\n",
    "print(\"Business = \"+str(business))\n",
    "print(\"Exception = \"+str(exception))"
   ]
  },
  {
   "cell_type": "code",
   "execution_count": 122,
   "id": "8db439c6-7b1f-4b83-b79d-e018128914e3",
   "metadata": {},
   "outputs": [
    {
     "data": {
      "text/plain": [
       "np.float64(86.5683434290229)"
      ]
     },
     "execution_count": 122,
     "metadata": {},
     "output_type": "execute_result"
    }
   ],
   "source": [
    "completionRate = ((complete+business)/total)*100\n",
    "completion"
   ]
  },
  {
   "cell_type": "code",
   "execution_count": 121,
   "id": "75ab1ea9-5659-430b-a9fb-913e987bb548",
   "metadata": {},
   "outputs": [
    {
     "data": {
      "text/plain": [
       "np.float64(86.5683434290229)"
      ]
     },
     "execution_count": 121,
     "metadata": {},
     "output_type": "execute_result"
    }
   ],
   "source": [
    "all = total - exception\n",
    "completion = (all/total)*100\n",
    "completion"
   ]
  },
  {
   "cell_type": "code",
   "execution_count": null,
   "id": "32601c6f-557a-415e-b43d-a8dced12055a",
   "metadata": {},
   "outputs": [],
   "source": []
  }
 ],
 "metadata": {
  "kernelspec": {
   "display_name": "Python 3 (ipykernel)",
   "language": "python",
   "name": "python3"
  },
  "language_info": {
   "codemirror_mode": {
    "name": "ipython",
    "version": 3
   },
   "file_extension": ".py",
   "mimetype": "text/x-python",
   "name": "python",
   "nbconvert_exporter": "python",
   "pygments_lexer": "ipython3",
   "version": "3.12.4"
  }
 },
 "nbformat": 4,
 "nbformat_minor": 5
}
