{
 "cells": [
  {
   "cell_type": "code",
   "execution_count": 1,
   "id": "40cd5b57-c3ee-48ae-a92d-288a6c8da78a",
   "metadata": {},
   "outputs": [],
   "source": [
    "import seaborn\n",
    "import pandas as pd\n",
    "import dataframe_image\n",
    "import datetime\n",
    "import matplotlib as plt"
   ]
  },
  {
   "cell_type": "code",
   "execution_count": 2,
   "id": "8dbe35be-df12-45a4-82a1-a3329d073c82",
   "metadata": {
    "editable": true,
    "slideshow": {
     "slide_type": ""
    },
    "tags": []
   },
   "outputs": [],
   "source": [
    "def openFile(path):\n",
    "    data = pd.read_csv(path)\n",
    "    return data"
   ]
  },
  {
   "cell_type": "code",
   "execution_count": 3,
   "id": "94e136ff-b60a-419c-b7df-8d6bab2aa556",
   "metadata": {},
   "outputs": [],
   "source": [
    "def cleanUp (data, dropColumns):\n",
    "    data = data.drop(columns=dropColumns)\n",
    "    #data['Loaded'] = pd.to_datetime(data['Loaded'],format='%mm-%dd-%YYYY')\n",
    "    #data['LastUpdated'] = pd.to_datetime(data['LastUpdated'],format='%mm-%dd-%YYYY')\n",
    "    data = data.groupby('Id')\n",
    "    return data"
   ]
  },
  {
   "cell_type": "code",
   "execution_count": 4,
   "id": "50236821-a026-499b-a396-a2a5b1c3cf4f",
   "metadata": {},
   "outputs": [],
   "source": [
    "def getTotal(data):\n",
    "    return len(data)"
   ]
  },
  {
   "cell_type": "code",
   "execution_count": 5,
   "id": "fb5d1778-c51d-4295-a24d-b10b99df8533",
   "metadata": {},
   "outputs": [],
   "source": [
    "def getBusinessExceptions(data):\n",
    "    exceptions = data.apply(lambda group: group['Tags'].str.contains('Business Exception').sum(),include_groups=False)\n",
    "    return exceptions.sum()"
   ]
  },
  {
   "cell_type": "code",
   "execution_count": 6,
   "id": "bbba3564-7379-4d79-845b-8e82a0e865e7",
   "metadata": {},
   "outputs": [],
   "source": [
    "def getCompletions(data, keyword):\n",
    "    return data['Status'].apply(lambda status: status == keyword).sum()"
   ]
  },
  {
   "cell_type": "code",
   "execution_count": 7,
   "id": "ff227984-e256-407e-951e-2222ccfe7fb5",
   "metadata": {},
   "outputs": [],
   "source": [
    "def printData(data):\n",
    "    totalItems = getTotal(data)\n",
    "    businessExceptions = getBusinessExceptions(data)\n",
    "    completions = getCompletions(data,\"Complete\")\n",
    "    exceptions = totalItems - (completions + businessExceptions)\n",
    "    print(f\"Total items = {totalItems}\")\n",
    "    print(f\"Completions = {completions}\")\n",
    "    print(f\"Business exceptions = {businessExceptions}\")\n",
    "    print(f\"Exceptions = {exceptions}\")\n",
    "    "
   ]
  },
  {
   "cell_type": "code",
   "execution_count": 54,
   "id": "d2bde2da-1920-4cdc-aa7c-2861a1fab46b",
   "metadata": {},
   "outputs": [],
   "source": [
    "def setStatus(data):\n",
    "    if pd.notnull(data[\"Tags\"]) and \"Business Exception\" in data[\"Tags\"]:\n",
    "        data[\"Status\"] = \"Business Exception\"\n",
    "    elif data[\"isLocked\"] == 1:\n",
    "        data[\"Status\"] = \"Locked\"\n",
    "    elif data[\"Status\"] == \"Complete\":\n",
    "        pass\n",
    "    elif data[\"Status\"] == \"Pending\":\n",
    "        pass\n",
    "    else:\n",
    "        data[\"Status\"] = \"Exception\"\n",
    "        \n",
    "        \n",
    "\n",
    "    return data"
   ]
  },
  {
   "cell_type": "code",
   "execution_count": 70,
   "id": "53fceb18-90ec-476a-b0fc-58ce2dcc05e9",
   "metadata": {},
   "outputs": [],
   "source": [
    "def getStatusCount(data,status):\n",
    "    count, _ = data[data[\"Status\"] == status].shape\n",
    "    return str(count)"
   ]
  },
  {
   "cell_type": "code",
   "execution_count": 71,
   "id": "10ab2aa8-6006-44f4-8570-7d93be93d5c8",
   "metadata": {
    "editable": true,
    "scrolled": true,
    "slideshow": {
     "slide_type": ""
    },
    "tags": []
   },
   "outputs": [
    {
     "name": "stdout",
     "output_type": "stream",
     "text": [
      "Complete: 2802\n",
      "Business Exception: 117\n",
      "Locked: 10\n",
      "Pending 54\n",
      "Exception 814\n"
     ]
    }
   ],
   "source": [
    "directory = \"resources/reports/08-26/\"\n",
    "filename = \"icd.csv\"\n",
    "path = directory + filename\n",
    "data = openFile(path)\n",
    "data['isLocked'] = data['Locked'].apply(lambda x: 1 if pd.notnull(x) else 0)\n",
    "drop = ['Resource', 'Loaded','LastUpdated', 'Exception', 'Deferred','Completed','KeyValue','Priority','Attempt','Worktime','Locked','ExceptionReason']\n",
    "data = data.drop(columns=drop)\n",
    "data[\"process\"] = \"ICD\"\n",
    "data['Status'] = data['Status'].apply(lambda x: x if pd.notnull(x) else \"Pending\")\n",
    "data = data.apply(setStatus, axis=1)\n",
    "print(\"Complete: \" + getStatusCount(data,\"Complete\"))\n",
    "print(\"Business Exception: \" + getStatusCount(data,\"Business Exception\"))\n",
    "print(\"Locked: \" + getStatusCount(data,\"Locked\"))\n",
    "print(\"Pending \" + getStatusCount(data,\"Pending\"))\n",
    "print(\"Exception \" + getStatusCount(data,\"Exception\"))\n"
   ]
  },
  {
   "cell_type": "code",
   "execution_count": null,
   "id": "4e123a94-636a-4fbc-aebb-62338e2990c8",
   "metadata": {},
   "outputs": [],
   "source": []
  }
 ],
 "metadata": {
  "kernelspec": {
   "display_name": "Python 3 (ipykernel)",
   "language": "python",
   "name": "python3"
  },
  "language_info": {
   "codemirror_mode": {
    "name": "ipython",
    "version": 3
   },
   "file_extension": ".py",
   "mimetype": "text/x-python",
   "name": "python",
   "nbconvert_exporter": "python",
   "pygments_lexer": "ipython3",
   "version": "3.12.4"
  }
 },
 "nbformat": 4,
 "nbformat_minor": 5
}
